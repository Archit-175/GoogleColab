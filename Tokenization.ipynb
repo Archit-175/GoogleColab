{
  "nbformat": 4,
  "nbformat_minor": 0,
  "metadata": {
    "colab": {
      "provenance": [],
      "authorship_tag": "ABX9TyM3Wo9NO/8jcDLB/9fOU6t3",
      "include_colab_link": true
    },
    "kernelspec": {
      "name": "python3",
      "display_name": "Python 3"
    },
    "language_info": {
      "name": "python"
    }
  },
  "cells": [
    {
      "cell_type": "markdown",
      "metadata": {
        "id": "view-in-github",
        "colab_type": "text"
      },
      "source": [
        "<a href=\"https://colab.research.google.com/github/Archit-175/GoogleColab/blob/main/Tokenization.ipynb\" target=\"_parent\"><img src=\"https://colab.research.google.com/assets/colab-badge.svg\" alt=\"Open In Colab\"/></a>"
      ]
    },
    {
      "cell_type": "code",
      "execution_count": 20,
      "metadata": {
        "id": "9_VsRBJEauOj"
      },
      "outputs": [],
      "source": [
        "corpus = \"\"\"\n",
        "Hy myself Archit Savaliya ! Currently learning NLP.\n",
        "Right now doing Tokenization.\n",
        "it's my owner to learn NLP.\n",
        "\"\"\"\n"
      ]
    },
    {
      "cell_type": "markdown",
      "source": [
        "Paragrapgh ---> Sentence"
      ],
      "metadata": {
        "id": "XgxfOrOtdnJA"
      }
    },
    {
      "cell_type": "code",
      "source": [
        "import nltk\n",
        "nltk.download('punkt_tab')\n",
        "from nltk.tokenize import sent_tokenize"
      ],
      "metadata": {
        "colab": {
          "base_uri": "https://localhost:8080/"
        },
        "id": "Pp7F4HTXdj7t",
        "outputId": "9376c0f4-059b-4ac5-a6b5-6d91f584e190"
      },
      "execution_count": 11,
      "outputs": [
        {
          "output_type": "stream",
          "name": "stderr",
          "text": [
            "[nltk_data] Downloading package punkt_tab to /root/nltk_data...\n",
            "[nltk_data]   Unzipping tokenizers/punkt_tab.zip.\n"
          ]
        }
      ]
    },
    {
      "cell_type": "code",
      "source": [
        "sent_tokenize(corpus)"
      ],
      "metadata": {
        "colab": {
          "base_uri": "https://localhost:8080/"
        },
        "id": "ET-UFcwBd13C",
        "outputId": "24eabdd8-67ca-457f-db5b-15f865eb1af6"
      },
      "execution_count": 21,
      "outputs": [
        {
          "output_type": "execute_result",
          "data": {
            "text/plain": [
              "['\\nHy myself Archit Savaliya !',\n",
              " 'Currently learning NLP.',\n",
              " 'Right now doing Tokenization.',\n",
              " \"it's my owner to learn NLP.\"]"
            ]
          },
          "metadata": {},
          "execution_count": 21
        }
      ]
    },
    {
      "cell_type": "markdown",
      "source": [
        "paragraph ---> words"
      ],
      "metadata": {
        "id": "v3bU7GFffdv8"
      }
    },
    {
      "cell_type": "code",
      "source": [
        "from nltk.tokenize import word_tokenize"
      ],
      "metadata": {
        "id": "Y1EhqO3teQA5"
      },
      "execution_count": 15,
      "outputs": []
    },
    {
      "cell_type": "code",
      "source": [
        "word_tokenize(corpus)"
      ],
      "metadata": {
        "colab": {
          "base_uri": "https://localhost:8080/"
        },
        "id": "_ivJDBSufmlT",
        "outputId": "5009e085-197d-4e6c-a2de-9255f266c45c"
      },
      "execution_count": 22,
      "outputs": [
        {
          "output_type": "execute_result",
          "data": {
            "text/plain": [
              "['Hy',\n",
              " 'myself',\n",
              " 'Archit',\n",
              " 'Savaliya',\n",
              " '!',\n",
              " 'Currently',\n",
              " 'learning',\n",
              " 'NLP',\n",
              " '.',\n",
              " 'Right',\n",
              " 'now',\n",
              " 'doing',\n",
              " 'Tokenization',\n",
              " '.',\n",
              " 'it',\n",
              " \"'s\",\n",
              " 'my',\n",
              " 'owner',\n",
              " 'to',\n",
              " 'learn',\n",
              " 'NLP',\n",
              " '.']"
            ]
          },
          "metadata": {},
          "execution_count": 22
        }
      ]
    },
    {
      "cell_type": "code",
      "source": [
        "from nltk.tokenize import wordpunct_tokenize"
      ],
      "metadata": {
        "id": "WU1dkrArfpkr"
      },
      "execution_count": 17,
      "outputs": []
    },
    {
      "cell_type": "code",
      "source": [
        "wordpunct_tokenize(corpus)"
      ],
      "metadata": {
        "colab": {
          "base_uri": "https://localhost:8080/"
        },
        "id": "LPOuJbs-f24u",
        "outputId": "7e1ac5dd-8482-4afb-e0f4-0170b4795274"
      },
      "execution_count": 23,
      "outputs": [
        {
          "output_type": "execute_result",
          "data": {
            "text/plain": [
              "['Hy',\n",
              " 'myself',\n",
              " 'Archit',\n",
              " 'Savaliya',\n",
              " '!',\n",
              " 'Currently',\n",
              " 'learning',\n",
              " 'NLP',\n",
              " '.',\n",
              " 'Right',\n",
              " 'now',\n",
              " 'doing',\n",
              " 'Tokenization',\n",
              " '.',\n",
              " 'it',\n",
              " \"'\",\n",
              " 's',\n",
              " 'my',\n",
              " 'owner',\n",
              " 'to',\n",
              " 'learn',\n",
              " 'NLP',\n",
              " '.']"
            ]
          },
          "metadata": {},
          "execution_count": 23
        }
      ]
    },
    {
      "cell_type": "code",
      "source": [
        "from nltk.tokenize import TreebankWordTokenizer"
      ],
      "metadata": {
        "id": "AINg7Vehf8R0"
      },
      "execution_count": 24,
      "outputs": []
    },
    {
      "cell_type": "code",
      "source": [
        "tokenizer = TreebankWordTokenizer()\n",
        "tokenizer.tokenize(corpus)"
      ],
      "metadata": {
        "colab": {
          "base_uri": "https://localhost:8080/"
        },
        "id": "U-T4G8TWgQCb",
        "outputId": "9c2e78e4-44b0-4ad0-8be4-b93311e6eb8b"
      },
      "execution_count": 25,
      "outputs": [
        {
          "output_type": "execute_result",
          "data": {
            "text/plain": [
              "['Hy',\n",
              " 'myself',\n",
              " 'Archit',\n",
              " 'Savaliya',\n",
              " '!',\n",
              " 'Currently',\n",
              " 'learning',\n",
              " 'NLP.',\n",
              " 'Right',\n",
              " 'now',\n",
              " 'doing',\n",
              " 'Tokenization.',\n",
              " 'it',\n",
              " \"'s\",\n",
              " 'my',\n",
              " 'owner',\n",
              " 'to',\n",
              " 'learn',\n",
              " 'NLP',\n",
              " '.']"
            ]
          },
          "metadata": {},
          "execution_count": 25
        }
      ]
    },
    {
      "cell_type": "code",
      "source": [],
      "metadata": {
        "id": "dl5A9IcmgmgF"
      },
      "execution_count": null,
      "outputs": []
    }
  ]
}